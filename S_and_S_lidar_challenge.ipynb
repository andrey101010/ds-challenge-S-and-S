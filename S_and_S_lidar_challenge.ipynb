{
  "cells": [
    {
      "cell_type": "markdown",
      "metadata": {
        "id": "view-in-github",
        "colab_type": "text"
      },
      "source": [
        "<a href=\"https://colab.research.google.com/github/andrey101010/ds-challenge-S-and-S/blob/main/S_and_S_lidar_challenge.ipynb\" target=\"_parent\"><img src=\"https://colab.research.google.com/assets/colab-badge.svg\" alt=\"Open In Colab\"/></a>"
      ]
    },
    {
      "cell_type": "code",
      "execution_count": null,
      "id": "406b42d9",
      "metadata": {
        "id": "406b42d9"
      },
      "outputs": [],
      "source": [
        "# If the libraries in this cell are not installed, please uncomment and install them.\n",
        "# !pip install open3d \n",
        "# !pip install laspy\n",
        "# !pip install numpy"
      ]
    },
    {
      "cell_type": "markdown",
      "source": [
        "# Point Cloud Ground Segmentation"
      ],
      "metadata": {
        "id": "1abozx9b83Dv"
      },
      "id": "1abozx9b83Dv"
    },
    {
      "cell_type": "markdown",
      "id": "7774f72f",
      "metadata": {
        "scrolled": true,
        "id": "7774f72f"
      },
      "source": [
        "This notebook is using as an input a Lidar generated file. In this case it is a 3D map of a landscape.\n",
        "The goal here is to performed image segmentation where the ground is separated from the rest of the image.\n",
        "The idea here is to read out the Z loaction of the points (Z location is the hight of the point) and then create a plane, which is used as a threshold for ground and non-ground objects"
      ]
    },
    {
      "cell_type": "code",
      "execution_count": null,
      "id": "eed0b2bc",
      "metadata": {
        "id": "eed0b2bc"
      },
      "outputs": [],
      "source": [
        "import laspy\n",
        "import numpy as np\n",
        "import open3d as o3d"
      ]
    },
    {
      "cell_type": "code",
      "execution_count": null,
      "id": "7b76de18",
      "metadata": {
        "id": "7b76de18"
      },
      "outputs": [],
      "source": [
        "# to read the file the laspy library is used\n",
        "ddd = laspy.read(\"C:/Users/Jakob/Desktop/OneDrive_2_2/lidar_challenge/input.las\")"
      ]
    },
    {
      "cell_type": "code",
      "execution_count": null,
      "id": "d3978621",
      "metadata": {
        "id": "d3978621",
        "outputId": "4ca29845-0d39-4f94-b26f-f6a2269a49ee"
      },
      "outputs": [
        {
          "name": "stdout",
          "output_type": "stream",
          "text": [
            "['__class__', '__delattr__', '__dict__', '__dir__', '__doc__', '__eq__', '__format__', '__ge__', '__getattr__', '__getattribute__', '__getitem__', '__gt__', '__hash__', '__init__', '__init_subclass__', '__le__', '__len__', '__lt__', '__module__', '__ne__', '__new__', '__reduce__', '__reduce_ex__', '__repr__', '__setattr__', '__setitem__', '__sizeof__', '__str__', '__subclasshook__', '__weakref__', '_points', '_write_to', 'add_extra_dim', 'add_extra_dims', 'change_scaling', 'evlrs', 'header', 'point_format', 'points', 'remove_extra_dim', 'remove_extra_dims', 'update_header', 'vlrs', 'write', 'xyz']\n"
          ]
        }
      ],
      "source": [
        "#  Which properties does the ddd object have?\n",
        "print(dir(ddd))"
      ]
    },
    {
      "cell_type": "code",
      "execution_count": null,
      "id": "856c63f1",
      "metadata": {
        "id": "856c63f1",
        "outputId": "5317c171-d9ce-49d1-b8ec-10bcf724e44e"
      },
      "outputs": [
        {
          "data": {
            "text/plain": [
              "['X',\n",
              " 'Y',\n",
              " 'Z',\n",
              " 'intensity',\n",
              " 'return_number',\n",
              " 'number_of_returns',\n",
              " 'scan_direction_flag',\n",
              " 'edge_of_flight_line',\n",
              " 'classification',\n",
              " 'synthetic',\n",
              " 'key_point',\n",
              " 'withheld',\n",
              " 'scan_angle_rank',\n",
              " 'user_data',\n",
              " 'point_source_id',\n",
              " 'gps_time']"
            ]
          },
          "execution_count": 4,
          "metadata": {},
          "output_type": "execute_result"
        }
      ],
      "source": [
        "list(ddd.point_format.dimension_names)"
      ]
    },
    {
      "cell_type": "code",
      "execution_count": null,
      "id": "7e233f08",
      "metadata": {
        "id": "7e233f08",
        "outputId": "e773cbe3-4d8e-490d-ac17-6a12bd4ed1ea"
      },
      "outputs": [
        {
          "data": {
            "text/plain": [
              "{0}"
            ]
          },
          "execution_count": 5,
          "metadata": {},
          "output_type": "execute_result"
        }
      ],
      "source": [
        "# There is a possibility that the points in the cloud are alredy classified. Most lidar data label 2 as ground.\n",
        "# For further information visit the website:\n",
        "# https://desktop.arcgis.com/de/arcmap/10.3/manage-data/las-dataset/lidar-point-classification.htm\n",
        "set(list(ddd.classification))"
      ]
    },
    {
      "cell_type": "code",
      "execution_count": null,
      "id": "fa77e972",
      "metadata": {
        "id": "fa77e972"
      },
      "outputs": [],
      "source": [
        "# With this command a point cloud object is created and can be visualised later.\n",
        "point_cloud = np.stack([ddd.X, ddd.Y, ddd.Z], axis = 0).transpose((1, 0))"
      ]
    },
    {
      "cell_type": "code",
      "execution_count": null,
      "id": "ce4ceb27",
      "metadata": {
        "id": "ce4ceb27",
        "outputId": "e3a9ade2-d502-45fb-aeb5-237c69e4a3ee"
      },
      "outputs": [
        {
          "data": {
            "text/plain": [
              "(10103120, 3)"
            ]
          },
          "execution_count": 8,
          "metadata": {},
          "output_type": "execute_result"
        }
      ],
      "source": [
        "point_cloud.shape"
      ]
    },
    {
      "cell_type": "code",
      "execution_count": null,
      "id": "342c27f5",
      "metadata": {
        "id": "342c27f5",
        "outputId": "156b8f7e-1fb4-4c16-e40c-f132403dfe48"
      },
      "outputs": [
        {
          "data": {
            "text/plain": [
              "numpy.ndarray"
            ]
          },
          "execution_count": 12,
          "metadata": {},
          "output_type": "execute_result"
        }
      ],
      "source": [
        "type(point_cloud)"
      ]
    },
    {
      "cell_type": "code",
      "execution_count": null,
      "id": "b16be6e6",
      "metadata": {
        "id": "b16be6e6"
      },
      "outputs": [],
      "source": [
        "# 3D coordinates are used for matplotlib. However, due to performance reasons this action is commented out although \n",
        "# point cloud visulisation is also possible\n",
        "X = point_cloud[:, 0]\n",
        "Y = point_cloud[:, 1]\n",
        "Z = point_cloud[:, 2]\n",
        "\n",
        "%timeit\n",
        "# fig = plt.figure(figsize=(10,10))\n",
        "# ax = plt.axes(projection = '3d')\n",
        "# ax.scatter(X, Y, Z, c=Z, cmap='viridis', linewidth=.5);"
      ]
    },
    {
      "cell_type": "code",
      "execution_count": null,
      "id": "218306e1",
      "metadata": {
        "id": "218306e1",
        "outputId": "4586e780-488e-48a4-dd74-4d060faa9756"
      },
      "outputs": [
        {
          "data": {
            "text/plain": [
              "4528"
            ]
          },
          "execution_count": 50,
          "metadata": {},
          "output_type": "execute_result"
        }
      ],
      "source": [
        "# this is the lowest point in the dataset in Z\n",
        "Z.min()"
      ]
    },
    {
      "cell_type": "code",
      "execution_count": null,
      "id": "e6e8409b",
      "metadata": {
        "id": "e6e8409b",
        "outputId": "baa34280-c014-4888-870a-996afc2c76ec"
      },
      "outputs": [
        {
          "data": {
            "text/plain": [
              "5594.61864889262"
            ]
          },
          "execution_count": 53,
          "metadata": {},
          "output_type": "execute_result"
        }
      ],
      "source": [
        "# average hight in Z\n",
        "Z.mean()"
      ]
    },
    {
      "cell_type": "code",
      "execution_count": null,
      "id": "069b0595",
      "metadata": {
        "id": "069b0595"
      },
      "outputs": [],
      "source": [
        "# in this cell you can adjust the hight of the plane in the point cloud. As seen in the upper cells the lowest point is around 4500 \n",
        "# the mean value is at 5500. For the presentation 3 differents hights were choosen.\n",
        "lower_bound = 5000\n",
        "middle = 5400\n",
        "upper_bound = 5900\n",
        "\n",
        "Z_threshold = np.full(len(Z), lower_bound) # The second arguments is for the hight of the plane. Change it to see the different outcomes!"
      ]
    },
    {
      "cell_type": "code",
      "execution_count": null,
      "id": "ff548620",
      "metadata": {
        "id": "ff548620"
      },
      "outputs": [],
      "source": [
        "# Plane with only 1 Z value and the same dimensions as the original image\n",
        "point_cloud_Z_threshold = np.stack([ddd.X, ddd.Y, Z_threshold], axis = 0).transpose((1, 0))"
      ]
    },
    {
      "cell_type": "code",
      "execution_count": null,
      "id": "685c9b44",
      "metadata": {
        "id": "685c9b44"
      },
      "outputs": [],
      "source": [
        "# top view of the image without any changes. This function shows the unproccessed data.\n",
        "pcd = o3d.geometry.PointCloud()\n",
        "pcd.points = o3d.utility.Vector3dVector(point_cloud)\n",
        "o3d.visualization.draw_geometries([pcd])"
      ]
    },
    {
      "cell_type": "code",
      "execution_count": null,
      "id": "c18dcf12",
      "metadata": {
        "id": "c18dcf12"
      },
      "outputs": [],
      "source": [
        "# with shift and number 2, 3, 5 it is possible to select the RGB channels. While with the key 9 grayscale is acheived\n",
        "pcd = o3d.geometry.PointCloud()\n",
        "pcd.points = o3d.utility.Vector3dVector(point_cloud)\n",
        "o3d.visualization.draw_geometries([pcd])"
      ]
    },
    {
      "cell_type": "code",
      "execution_count": null,
      "id": "a3bc33fc",
      "metadata": {
        "id": "a3bc33fc"
      },
      "outputs": [],
      "source": [
        "# This is the final product. The image is generated with two datasets.\n",
        "\n",
        "pcd_fixed_Z = o3d.geometry.PointCloud()\n",
        "pcd_fixed_Z.points = o3d.utility.Vector3dVector(point_cloud_Z_threshold)\n",
        "pcd_fixed_Z.paint_uniform_color([0.2, 0.3, 0.5]) # plane color change\n",
        "o3d.visualization.draw_geometries([pcd, pcd_fixed_Z])"
      ]
    },
    {
      "cell_type": "code",
      "execution_count": null,
      "id": "c954bd67",
      "metadata": {
        "id": "c954bd67"
      },
      "outputs": [],
      "source": [
        "# The open3d library has a function which detects planes in an image. The less the data points scatter the better this function works.\n",
        " \n",
        "plane_model, inliers = pcd.segment_plane(distance_threshold=400,\n",
        "                                         ransac_n=7,\n",
        "                                         num_iterations=10)\n",
        "\n",
        "inlier_cloud = pcd.select_by_index(inliers)\n",
        "inlier_cloud.paint_uniform_color([0.7, 0, 0.3])\n",
        "outlier_cloud = pcd.select_by_index(inliers, invert=True)\n",
        "o3d.visualization.draw_geometries([inlier_cloud, outlier_cloud])"
      ]
    }
  ],
  "metadata": {
    "kernelspec": {
      "display_name": "Python 3 (ipykernel)",
      "language": "python",
      "name": "python3"
    },
    "language_info": {
      "codemirror_mode": {
        "name": "ipython",
        "version": 3
      },
      "file_extension": ".py",
      "mimetype": "text/x-python",
      "name": "python",
      "nbconvert_exporter": "python",
      "pygments_lexer": "ipython3",
      "version": "3.9.13"
    },
    "colab": {
      "provenance": [],
      "include_colab_link": true
    }
  },
  "nbformat": 4,
  "nbformat_minor": 5
}