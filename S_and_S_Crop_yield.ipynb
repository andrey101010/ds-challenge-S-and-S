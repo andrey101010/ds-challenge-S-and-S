{
  "cells": [
    {
      "cell_type": "markdown",
      "metadata": {
        "id": "view-in-github",
        "colab_type": "text"
      },
      "source": [
        "<a href=\"https://colab.research.google.com/github/andrey101010/ds-challenge-S-and-S/blob/main/S_and_S_Crop_yield.ipynb\" target=\"_parent\"><img src=\"https://colab.research.google.com/assets/colab-badge.svg\" alt=\"Open In Colab\"/></a>"
      ]
    },
    {
      "cell_type": "code",
      "execution_count": null,
      "metadata": {
        "id": "dq5Pkc2PemVy"
      },
      "outputs": [],
      "source": [
        "# These libraries are needed for the project. Uncomment to install them. \n",
        "# To make use of this notebook the appropriate csv files need to be droped in the '/content' folder!\n",
        "# You need to load the images before procceeding with the script.\n",
        "\n",
        "# !pip install pandas\n",
        "# !pip install matplotlib\n",
        "# !pip install sklearn "
      ]
    },
    {
      "cell_type": "markdown",
      "source": [
        "# Crop Yield Prediction"
      ],
      "metadata": {
        "id": "QzIiuQUG8YgX"
      }
    },
    {
      "cell_type": "code",
      "execution_count": null,
      "metadata": {
        "id": "V9aWtJP9emV3"
      },
      "outputs": [],
      "source": [
        "import pandas as pd\n",
        "import matplotlib.pyplot as plt\n",
        "\n",
        "from sklearn.preprocessing import LabelEncoder, MinMaxScaler\n",
        "from sklearn.model_selection import train_test_split\n",
        "from sklearn.linear_model import LinearRegression, BayesianRidge\n",
        "from sklearn.ensemble import RandomForestRegressor\n",
        "from sklearn.metrics import mean_squared_error, r2_score\n",
        "from sklearn.feature_selection import mutual_info_regression"
      ]
    },
    {
      "cell_type": "code",
      "source": [
        "# works if the files and the notebook are in the same folder\n",
        "pwd = !pwd"
      ],
      "metadata": {
        "id": "0SSNGndFep-L"
      },
      "execution_count": null,
      "outputs": []
    },
    {
      "cell_type": "code",
      "execution_count": null,
      "metadata": {
        "id": "FYsyNu6FemV4"
      },
      "outputs": [],
      "source": [
        "temperature = pd.read_csv('{}/temp.csv'.format(pwd[0]))\n",
        "rainfall = pd.read_csv('{}/rainfall.csv'.format(pwd[0]))\n",
        "pesticide = pd.read_csv('{}/pesticides.csv'.format(pwd[0]))\n",
        "crop_yield = pd.read_csv('{}/yield.csv'.format(pwd[0]))"
      ]
    },
    {
      "cell_type": "code",
      "execution_count": null,
      "metadata": {
        "id": "ZWtynchAemV6"
      },
      "outputs": [],
      "source": [
        "crop_yield.head()"
      ]
    },
    {
      "cell_type": "code",
      "source": [
        "# rainfall is presented as an average over multiple decades!\n",
        "rainfall.head()"
      ],
      "metadata": {
        "id": "U7EUsQyMsY7g"
      },
      "execution_count": null,
      "outputs": []
    },
    {
      "cell_type": "code",
      "execution_count": null,
      "metadata": {
        "id": "EmZWrPGzemV8"
      },
      "outputs": [],
      "source": [
        "pesticide.head()"
      ]
    },
    {
      "cell_type": "code",
      "execution_count": null,
      "metadata": {
        "id": "kvYGb99eemV9"
      },
      "outputs": [],
      "source": [
        "temperature.head()"
      ]
    },
    {
      "cell_type": "code",
      "execution_count": null,
      "metadata": {
        "id": "SUZbxH2oemV-"
      },
      "outputs": [],
      "source": [
        "print('DF shape crop yield: ',crop_yield.shape)\n",
        "print('DF shape pesticide: ', pesticide.shape)\n",
        "print('DF shape rainfall: ', rainfall.shape)\n",
        "print('DF shape temperature: ',temperature.shape)"
      ]
    },
    {
      "cell_type": "markdown",
      "metadata": {
        "id": "pgXar6XEemWA"
      },
      "source": [
        "# EDA\n",
        "crop yield"
      ]
    },
    {
      "cell_type": "code",
      "execution_count": null,
      "metadata": {
        "id": "gJwfNRCyemWC"
      },
      "outputs": [],
      "source": [
        "crop_yield.info()\n",
        "crop_yield.describe()"
      ]
    },
    {
      "cell_type": "code",
      "execution_count": null,
      "metadata": {
        "id": "CJiAMQqfemWD"
      },
      "outputs": [],
      "source": [
        "crop_yield.head()"
      ]
    },
    {
      "cell_type": "code",
      "execution_count": null,
      "metadata": {
        "id": "8jticjviemWF"
      },
      "outputs": [],
      "source": [
        "crop_yield = crop_yield.drop(['Domain Code', 'Domain', 'Element Code', 'Element', 'Unit', 'Year Code'], axis = 1)"
      ]
    },
    {
      "cell_type": "code",
      "execution_count": null,
      "metadata": {
        "id": "A-oqCMfXemWF"
      },
      "outputs": [],
      "source": [
        "crop_yield.rename(columns={'Value': 'Crop_Yield'}, inplace=True)"
      ]
    },
    {
      "cell_type": "code",
      "execution_count": null,
      "metadata": {
        "id": "Htjj9SoGemWG"
      },
      "outputs": [],
      "source": [
        "crop_yield.Item.unique()"
      ]
    },
    {
      "cell_type": "code",
      "execution_count": null,
      "metadata": {
        "id": "Q6CSWO1remWH"
      },
      "outputs": [],
      "source": [
        "crop_yield.Area.nunique()"
      ]
    },
    {
      "cell_type": "code",
      "execution_count": null,
      "metadata": {
        "id": "XtOh5_9LemWI"
      },
      "outputs": [],
      "source": [
        "pesticide.info()\n",
        "pesticide.describe()"
      ]
    },
    {
      "cell_type": "code",
      "execution_count": null,
      "metadata": {
        "id": "zaYkHtA9emWJ"
      },
      "outputs": [],
      "source": [
        "pesticide.head()"
      ]
    },
    {
      "cell_type": "code",
      "execution_count": null,
      "metadata": {
        "id": "L4gaXK2PemWK"
      },
      "outputs": [],
      "source": [
        "pesticide.Unit.unique()"
      ]
    },
    {
      "cell_type": "code",
      "execution_count": null,
      "metadata": {
        "id": "Jh0kd5-EemWL"
      },
      "outputs": [],
      "source": [
        "pesticide.Item.unique()"
      ]
    },
    {
      "cell_type": "code",
      "execution_count": null,
      "metadata": {
        "id": "4fkcQW62emWM"
      },
      "outputs": [],
      "source": [
        "pesticide.Element.unique()"
      ]
    },
    {
      "cell_type": "code",
      "execution_count": null,
      "metadata": {
        "id": "GPJw3g6FemWN"
      },
      "outputs": [],
      "source": [
        "pesticide.Domain.unique()"
      ]
    },
    {
      "cell_type": "code",
      "execution_count": null,
      "metadata": {
        "id": "8F26s-vgemWO"
      },
      "outputs": [],
      "source": [
        "# removing some columns not needed for ML analysis\n",
        "pesticide = pesticide.drop(['Domain', 'Element', 'Item', 'Unit'], axis = 1)"
      ]
    },
    {
      "cell_type": "code",
      "execution_count": null,
      "metadata": {
        "id": "m6rM2kpVemWO"
      },
      "outputs": [],
      "source": [
        "pesticide.rename(columns={'Value': 'Pesticide_Amount'}, inplace=True)"
      ]
    },
    {
      "cell_type": "code",
      "execution_count": null,
      "metadata": {
        "id": "G8laMGs_emWP"
      },
      "outputs": [],
      "source": [
        "pesticide"
      ]
    },
    {
      "cell_type": "code",
      "execution_count": null,
      "metadata": {
        "id": "x3U8cuY1emWQ"
      },
      "outputs": [],
      "source": [
        "rainfall.info()\n",
        "rainfall.describe()"
      ]
    },
    {
      "cell_type": "code",
      "execution_count": null,
      "metadata": {
        "id": "WoEoP_1-emWR"
      },
      "outputs": [],
      "source": [
        "rainfall[' Area'].nunique()"
      ]
    },
    {
      "cell_type": "code",
      "execution_count": null,
      "metadata": {
        "id": "8aSKL7nhemWR"
      },
      "outputs": [],
      "source": [
        "temperature.info()\n",
        "temperature.describe()"
      ]
    },
    {
      "cell_type": "code",
      "execution_count": null,
      "metadata": {
        "id": "x_JskSJpemWS"
      },
      "outputs": [],
      "source": [
        "temperature.country.nunique()"
      ]
    },
    {
      "cell_type": "code",
      "execution_count": null,
      "metadata": {
        "id": "glbB3bc6emWV"
      },
      "outputs": [],
      "source": [
        "rainfall_temperature = pd.merge(rainfall, temperature,  how='left', left_on=['Year',' Area'], right_on = ['year','country'])"
      ]
    },
    {
      "cell_type": "code",
      "execution_count": null,
      "metadata": {
        "id": "eA4Gf3BHemWW"
      },
      "outputs": [],
      "source": [
        "rainfall_temperature_pesticide = pd.merge(rainfall_temperature, pesticide,  how='left', left_on=['Year',' Area'], right_on = ['Year','Area'])"
      ]
    },
    {
      "cell_type": "code",
      "execution_count": null,
      "metadata": {
        "id": "fQxiiIvlemWY"
      },
      "outputs": [],
      "source": [
        "crop_yield"
      ]
    },
    {
      "cell_type": "code",
      "execution_count": null,
      "metadata": {
        "id": "fMNfgK1GemWY"
      },
      "outputs": [],
      "source": [
        "merged_table = pd.merge(rainfall_temperature_pesticide, crop_yield,  how='left', left_on=['Year',' Area'], right_on = ['Year','Area'])"
      ]
    },
    {
      "cell_type": "code",
      "execution_count": null,
      "metadata": {
        "id": "-MX8bSuQemWa"
      },
      "outputs": [],
      "source": [
        "# The Area code as well as item code are purpusly left in the table. The will be later applied to an Ml algorihm\n",
        "final_df = merged_table.drop(['year', 'Area_x', 'Area_y', 'country'], axis = 1)"
      ]
    },
    {
      "cell_type": "code",
      "execution_count": null,
      "metadata": {
        "id": "u6LjzgcbemWb"
      },
      "outputs": [],
      "source": [
        "crop_yield.groupby('Year')['Crop_Yield'].mean().plot()"
      ]
    },
    {
      "cell_type": "code",
      "execution_count": null,
      "metadata": {
        "id": "XE5ONlwDemWb"
      },
      "outputs": [],
      "source": [
        "final_df.groupby('Year')['Crop_Yield'].mean().plot();"
      ]
    },
    {
      "cell_type": "code",
      "execution_count": null,
      "metadata": {
        "id": "f_6A_ACcemWe"
      },
      "outputs": [],
      "source": [
        "# Also some object columns needs to be transformed to numerical columns\n",
        "final_df.info()"
      ]
    },
    {
      "cell_type": "code",
      "execution_count": null,
      "metadata": {
        "id": "0SlPFr9nemWe"
      },
      "outputs": [],
      "source": [
        "# transform the avg_temp to numeric\n",
        "final_df.avg_temp = pd.to_numeric(final_df.avg_temp)"
      ]
    },
    {
      "cell_type": "code",
      "execution_count": null,
      "metadata": {
        "id": "zw2OigSzemWf"
      },
      "outputs": [],
      "source": [
        "# Drops those rows with an average rainfall and the value '..'\n",
        "final_df = final_df[final_df.average_rain_fall_mm_per_year != '..']"
      ]
    },
    {
      "cell_type": "code",
      "execution_count": null,
      "metadata": {
        "id": "fRY6iedMemWh"
      },
      "outputs": [],
      "source": [
        "#  this function removes commas in the float string. In addition Nan values are ignored as those cause a Attribute Error.\n",
        "def remove_commas(x):\n",
        "    try:\n",
        "        x = x.split(',')\n",
        "        return x[0]\n",
        "    except AttributeError:\n",
        "        pass"
      ]
    },
    {
      "cell_type": "code",
      "execution_count": null,
      "metadata": {
        "id": "8FRDcHvMemWi"
      },
      "outputs": [],
      "source": [
        "# remove the commas in the strings for the column_>\n",
        "final_df.average_rain_fall_mm_per_year = final_df.average_rain_fall_mm_per_year.apply(remove_commas)"
      ]
    },
    {
      "cell_type": "code",
      "source": [
        "final_df.average_rain_fall_mm_per_year = pd.to_numeric(final_df.average_rain_fall_mm_per_year)"
      ],
      "metadata": {
        "id": "EIZQb4uTzveR"
      },
      "execution_count": null,
      "outputs": []
    },
    {
      "cell_type": "code",
      "execution_count": null,
      "metadata": {
        "id": "zTpccnR9emWl"
      },
      "outputs": [],
      "source": [
        "final_df.info()"
      ]
    },
    {
      "cell_type": "markdown",
      "source": [
        "Graphical representation of  rainfall, temperature and crop yield"
      ],
      "metadata": {
        "id": "euXE3ctEeAwK"
      }
    },
    {
      "cell_type": "code",
      "execution_count": null,
      "metadata": {
        "id": "ZnaqK8csemWn"
      },
      "outputs": [],
      "source": [
        "# Rainfall is more or less constant over the years\n",
        "final_df.groupby('Year').average_rain_fall_mm_per_year.mean().plot()\n",
        "plt.ylabel('Precipitation mm*m-2')\n",
        "plt.ylim(0,1300);"
      ]
    },
    {
      "cell_type": "code",
      "execution_count": null,
      "metadata": {
        "id": "um4DKyktemWo"
      },
      "outputs": [],
      "source": [
        "final_df.groupby('Year').avg_temp.mean().plot()\n",
        "plt.ylabel('Temperature [°C]')\n",
        "plt.ylim(0,25);"
      ]
    },
    {
      "cell_type": "code",
      "execution_count": null,
      "metadata": {
        "id": "ogHRZaQtemWp"
      },
      "outputs": [],
      "source": [
        "final_df.groupby('Year').Pesticide_Amount.mean().plot();\n",
        "plt.ylabel('Crop amount [hg/ha]');"
      ]
    },
    {
      "cell_type": "markdown",
      "source": [
        "Cleaning up the Data"
      ],
      "metadata": {
        "id": "2iIZ3nqQLf5I"
      }
    },
    {
      "cell_type": "code",
      "source": [
        "# An example to drop a country, because of missing values\n",
        "final_df[final_df[' Area'] == 'Andorra'].head()"
      ],
      "metadata": {
        "id": "zg9xK4Cl_Kq2"
      },
      "execution_count": null,
      "outputs": []
    },
    {
      "cell_type": "code",
      "source": [
        "# Some countries appear only because of their appearence in some datasets. But other datasets are not providing those coutries with values.\n",
        "# Hence those can be droped out of the table\n",
        "final_df.groupby(\" Area\").mean()"
      ],
      "metadata": {
        "id": "VYTl-AU9_APc"
      },
      "execution_count": null,
      "outputs": []
    },
    {
      "cell_type": "code",
      "source": [
        "# Some missing values can be easily filled with fillna and mean. It is fully true for the item code and with a good approximation for average temperature.\n",
        "filling_missing_values = final_df.groupby(\" Area\")[['avg_temp', 'Area Code']].transform(lambda x: x.fillna(x.mean()))"
      ],
      "metadata": {
        "id": "hAj_kA236tZL"
      },
      "execution_count": null,
      "outputs": []
    },
    {
      "cell_type": "code",
      "source": [
        "# New values are concatenated with the final data frame\n",
        "final_df = pd.concat([final_df.drop(['avg_temp', 'Area Code'], axis = 1), filling_missing_values], axis = 1)"
      ],
      "metadata": {
        "id": "jFj-HYjwBZT2"
      },
      "execution_count": null,
      "outputs": []
    },
    {
      "cell_type": "code",
      "execution_count": null,
      "metadata": {
        "id": "1aM1aN1BemWp"
      },
      "outputs": [],
      "source": [
        "# There are some missing valaes in the table. Before dropping them some can be adequately replaced. Such as \n",
        "# Area Code \n",
        "final_df.isnull().sum()"
      ]
    },
    {
      "cell_type": "code",
      "execution_count": null,
      "metadata": {
        "id": "9tG6IPz3emWq"
      },
      "outputs": [],
      "source": [
        "# Dropping all NaNs. However, if there would be more time, filling with appropriate values would be the better solution!\n",
        "final_df = final_df.dropna()"
      ]
    },
    {
      "cell_type": "code",
      "source": [
        "# more than half of the data frame is missing now.\n",
        "final_df.info()"
      ],
      "metadata": {
        "id": "CqJ4w3Z62Dc5"
      },
      "execution_count": null,
      "outputs": []
    },
    {
      "cell_type": "code",
      "source": [
        "# the top countries with most entries\n",
        "final_df.groupby(' Area')['Crop_Yield'].count().sort_values().tail(10).plot(kind='bar', figsize =(15, 7));\n",
        "plt.ylabel('Amount of Entries', fontsize = 18);\n",
        "plt.yticks(fontsize = 18)\n",
        "plt.xlabel(None);\n",
        "plt.xticks(fontsize = 18);"
      ],
      "metadata": {
        "id": "mrIDAqGpG9TA"
      },
      "execution_count": null,
      "outputs": []
    },
    {
      "cell_type": "markdown",
      "source": [
        "# Machine learning approach"
      ],
      "metadata": {
        "id": "mmx2o7kr8XVB"
      }
    },
    {
      "cell_type": "markdown",
      "source": [
        "Here we seperate two countries, from the data frame. One country has a high crop yield while the other has a low crop yield. Later, a trained model is used to predict the crop yield.  "
      ],
      "metadata": {
        "id": "vHLYxz-cD9je"
      }
    },
    {
      "cell_type": "code",
      "source": [
        "# high crop yield\n",
        "# here I pick UK, but any other country should work\n",
        "final_df[final_df.Crop_Yield > 300000]"
      ],
      "metadata": {
        "id": "9v1WR9avcPxx"
      },
      "execution_count": null,
      "outputs": []
    },
    {
      "cell_type": "code",
      "source": [
        "final_df[final_df[' Area'] == 'United Kingdom']"
      ],
      "metadata": {
        "id": "4JsREHxuiyVc"
      },
      "execution_count": null,
      "outputs": []
    },
    {
      "cell_type": "code",
      "source": [
        "UK_DF = final_df[final_df[' Area'] == 'United Kingdom']"
      ],
      "metadata": {
        "id": "79MYN3XVdHGb"
      },
      "execution_count": null,
      "outputs": []
    },
    {
      "cell_type": "code",
      "source": [
        "UK_DF"
      ],
      "metadata": {
        "id": "Vdz8eyfdiUxm"
      },
      "execution_count": null,
      "outputs": []
    },
    {
      "cell_type": "code",
      "source": [
        "# UK is droped out of the dataset\n",
        "final_df = final_df[final_df[' Area'] != 'United Kingdom']"
      ],
      "metadata": {
        "id": "ZGdvM7Uvdx81"
      },
      "execution_count": null,
      "outputs": []
    },
    {
      "cell_type": "code",
      "source": [
        "# low crop yield\n",
        "# here I pick UK, but any other country should work\n",
        "final_df[final_df.Crop_Yield < 100000]"
      ],
      "metadata": {
        "id": "UIxmWs0OcoE-"
      },
      "execution_count": null,
      "outputs": []
    },
    {
      "cell_type": "code",
      "source": [
        "Albania_DF = final_df[final_df[' Area'] == 'Albania']"
      ],
      "metadata": {
        "id": "x7VV0UHBe_NX"
      },
      "execution_count": null,
      "outputs": []
    },
    {
      "cell_type": "code",
      "source": [
        "# Albania is droped out of the dataset\n",
        "final_df = final_df[final_df[' Area'] != 'Albania']"
      ],
      "metadata": {
        "id": "hPB6MJZyfFLM"
      },
      "execution_count": null,
      "outputs": []
    },
    {
      "cell_type": "code",
      "source": [
        "y = final_df['Crop_Yield']\n",
        "X = final_df.drop(['Item', ' Area', 'Crop_Yield', 'Year'], axis = 1)"
      ],
      "metadata": {
        "id": "7x--Kp-L1qkt"
      },
      "execution_count": null,
      "outputs": []
    },
    {
      "cell_type": "code",
      "source": [
        "y_uk = UK_DF['Crop_Yield']\n",
        "X_uk = UK_DF.drop(['Item', ' Area', 'Crop_Yield', 'Year'], axis = 1)"
      ],
      "metadata": {
        "id": "74pojxFBf3e6"
      },
      "execution_count": null,
      "outputs": []
    },
    {
      "cell_type": "code",
      "source": [
        "y_albania = Albania_DF['Crop_Yield']\n",
        "X_albania = Albania_DF.drop(['Item', ' Area', 'Crop_Yield', 'Year'], axis = 1)"
      ],
      "metadata": {
        "id": "-Aa6lfOSf3Oc"
      },
      "execution_count": null,
      "outputs": []
    },
    {
      "cell_type": "code",
      "source": [
        "X_train, X_test, y_train, y_test = train_test_split(X, y, test_size=0.25, random_state=0)"
      ],
      "metadata": {
        "id": "ycIHkWMm8Scw"
      },
      "execution_count": null,
      "outputs": []
    },
    {
      "cell_type": "markdown",
      "source": [
        "ML Algorithms"
      ],
      "metadata": {
        "id": "0ITqeikJgYov"
      }
    },
    {
      "cell_type": "markdown",
      "source": [
        "Random Forest"
      ],
      "metadata": {
        "id": "o2CKDGeDD_G2"
      }
    },
    {
      "cell_type": "code",
      "source": [
        "# Random Forest\n",
        "random_forest_regression = RandomForestRegressor()\n",
        "random_forest_regression.fit(X_train, y_train)\n",
        "\n",
        "# Calculate the estimated value for each data point\n",
        "y_pred = random_forest_regression.predict(X_test)"
      ],
      "metadata": {
        "id": "AtXPz1sH84DK"
      },
      "execution_count": null,
      "outputs": []
    },
    {
      "cell_type": "code",
      "source": [
        "# Calcualte the R-squared for our model\n",
        "print(\"R-squared:\", r2_score(y_test, y_pred).round(3))\n",
        "print(\"Mean Squared Error\", mean_squared_error(y_test, y_pred).round(2))\n",
        "print(\"Root Mean Squared Error\", (mean_squared_error(y_test, y_pred)**(1/2)).round(2))"
      ],
      "metadata": {
        "id": "EOanvMxSHMgP"
      },
      "execution_count": null,
      "outputs": []
    },
    {
      "cell_type": "markdown",
      "source": [
        "UK - random Forest"
      ],
      "metadata": {
        "id": "LnBjzenvg1VC"
      }
    },
    {
      "cell_type": "code",
      "source": [
        "y_pred = random_forest_regression.predict(X_uk)"
      ],
      "metadata": {
        "id": "lHhdTGi2fwxH"
      },
      "execution_count": null,
      "outputs": []
    },
    {
      "cell_type": "code",
      "source": [
        "# Calcualte the R-squared for our model\n",
        "print(\"R-squared:\", r2_score(y_uk, y_pred).round(3))\n",
        "print(\"Mean Squared Error\", mean_squared_error(y_uk, y_pred).round(2))\n",
        "print(\"Root Mean Squared Error\", (mean_squared_error(y_uk, y_pred)**(1/2)).round(2))"
      ],
      "metadata": {
        "id": "QqOrBpAMg-6b"
      },
      "execution_count": null,
      "outputs": []
    },
    {
      "cell_type": "markdown",
      "source": [
        "Albania - random forest"
      ],
      "metadata": {
        "id": "wh5XME8wlqLe"
      }
    },
    {
      "cell_type": "code",
      "source": [
        "y_pred = random_forest_regression.predict(X_albania)"
      ],
      "metadata": {
        "id": "YEhbbauqltf-"
      },
      "execution_count": null,
      "outputs": []
    },
    {
      "cell_type": "code",
      "source": [
        "# Calcualte the R-squared for our model\n",
        "print(\"R-squared:\", r2_score(y_albania, y_pred).round(3))\n",
        "print(\"Mean Squared Error\", mean_squared_error(y_albania, y_pred).round(2))\n",
        "print(\"Root Mean Squared Error\", (mean_squared_error(y_albania, y_pred)**(1/2)).round(2))"
      ],
      "metadata": {
        "id": "0szHVlTKlskU"
      },
      "execution_count": null,
      "outputs": []
    },
    {
      "cell_type": "markdown",
      "source": [
        "Linear Regression"
      ],
      "metadata": {
        "id": "1azcwjAkECbr"
      }
    },
    {
      "cell_type": "code",
      "source": [
        "# Linear Regression\n",
        "linear_regression = LinearRegression()\n",
        "linear_regression.fit(X_train, y_train)\n",
        "\n",
        "# Calculate the estimated value for each data point\n",
        "y_pred = linear_regression.predict(X_test)"
      ],
      "metadata": {
        "id": "iI2Cipx_Efxb"
      },
      "execution_count": null,
      "outputs": []
    },
    {
      "cell_type": "code",
      "source": [
        "# Calcualte the R-squared for our model\n",
        "print(\"R-squared:\", r2_score(y_test, y_pred).round(3))\n",
        "print(\"Mean Squared Error\", mean_squared_error(y_test, y_pred).round(2))\n",
        "print(\"Root Mean Squared Error\", (mean_squared_error(y_test, y_pred)**(1/2)).round(2))"
      ],
      "metadata": {
        "id": "umAQXDbcEfmf"
      },
      "execution_count": null,
      "outputs": []
    },
    {
      "cell_type": "markdown",
      "source": [
        "UK - linear regression"
      ],
      "metadata": {
        "id": "WaLLDHchl9vu"
      }
    },
    {
      "cell_type": "code",
      "source": [
        "y_pred = random_forest_regression.predict(X_uk)"
      ],
      "metadata": {
        "id": "jLqlnULBl_dc"
      },
      "execution_count": null,
      "outputs": []
    },
    {
      "cell_type": "code",
      "source": [
        "# Calcualte the R-squared for our model\n",
        "print(\"R-squared:\", r2_score(y_uk, y_pred).round(3))\n",
        "print(\"Mean Squared Error\", mean_squared_error(y_uk, y_pred).round(2))\n",
        "print(\"Root Mean Squared Error\", (mean_squared_error(y_uk, y_pred)**(1/2)).round(2))"
      ],
      "metadata": {
        "id": "jxIZxIwPl_LC"
      },
      "execution_count": null,
      "outputs": []
    },
    {
      "cell_type": "markdown",
      "source": [
        "Albania - linear regression"
      ],
      "metadata": {
        "id": "ENAfex9amoUM"
      }
    },
    {
      "cell_type": "code",
      "source": [
        "y_pred = random_forest_regression.predict(X_albania)"
      ],
      "metadata": {
        "id": "t2j8Hq0ims7X"
      },
      "execution_count": null,
      "outputs": []
    },
    {
      "cell_type": "code",
      "source": [
        "# Calcualte the R-squared for our model\n",
        "print(\"R-squared:\", r2_score(y_albania, y_pred).round(3))\n",
        "print(\"Mean Squared Error\", mean_squared_error(y_albania, y_pred).round(2))\n",
        "print(\"Root Mean Squared Error\", (mean_squared_error(y_albania, y_pred)**(1/2)).round(2))"
      ],
      "metadata": {
        "id": "s6YTmWYvmsXs"
      },
      "execution_count": null,
      "outputs": []
    },
    {
      "cell_type": "markdown",
      "source": [
        "Bayes Regression"
      ],
      "metadata": {
        "id": "psSIw1CfEx4e"
      }
    },
    {
      "cell_type": "code",
      "source": [
        "# Bayes regression\n",
        "bayes_regression = BayesianRidge()\n",
        "bayes_regression.fit(X_train, y_train)\n",
        "\n",
        "# Calculate the estimated value for each data point\n",
        "y_pred = bayes_regression.predict(X_test)"
      ],
      "metadata": {
        "id": "Aue5U-8CE1z0"
      },
      "execution_count": null,
      "outputs": []
    },
    {
      "cell_type": "code",
      "source": [
        "# Calcualte the R-squared for our model\n",
        "print(\"R-squared:\", r2_score(y_test, y_pred).round(3))\n",
        "print(\"Mean Squared Error\", mean_squared_error(y_test, y_pred).round(2))\n",
        "print(\"Root Mean Squared Error\", (mean_squared_error(y_test, y_pred)**(1/2)).round(2))"
      ],
      "metadata": {
        "id": "fWSrNieFE1kt"
      },
      "execution_count": null,
      "outputs": []
    },
    {
      "cell_type": "markdown",
      "source": [
        "This section onvestigates the feature importance"
      ],
      "metadata": {
        "id": "h6hyt7ScJADp"
      }
    },
    {
      "cell_type": "code",
      "source": [
        "# Please checkout the link\n",
        "# https://www.kaggle.com/code/ryanholbrook/mutual-information\n",
        "\n",
        "discrete_features = X.dtypes == int\n",
        "\n",
        "def make_mi_scores(X, y, discrete_features):\n",
        "    mi_scores = mutual_info_regression(X, y, discrete_features=discrete_features)\n",
        "    mi_scores = pd.Series(mi_scores, name=\"MI Scores\", index=X.columns)\n",
        "    mi_scores = mi_scores.sort_values(ascending=False)\n",
        "    return mi_scores\n",
        "\n",
        "mi_scores = make_mi_scores(X_train, y_train, discrete_features)\n",
        "mi_scores  # show a few features with their MI scores"
      ],
      "metadata": {
        "id": "sxbOJd_tHoEh"
      },
      "execution_count": null,
      "outputs": []
    }
  ],
  "metadata": {
    "kernelspec": {
      "display_name": ".venv",
      "language": "python",
      "name": "python3"
    },
    "language_info": {
      "codemirror_mode": {
        "name": "ipython",
        "version": 3
      },
      "file_extension": ".py",
      "mimetype": "text/x-python",
      "name": "python",
      "nbconvert_exporter": "python",
      "pygments_lexer": "ipython3",
      "version": "3.9.8"
    },
    "orig_nbformat": 4,
    "vscode": {
      "interpreter": {
        "hash": "acb41a23f7a0830a8fca124dc3d28e5d70e92312f3eb72d621cba8c066eca0ca"
      }
    },
    "colab": {
      "provenance": [],
      "include_colab_link": true
    }
  },
  "nbformat": 4,
  "nbformat_minor": 0
}