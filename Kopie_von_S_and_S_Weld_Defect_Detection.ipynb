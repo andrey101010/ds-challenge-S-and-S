{
  "nbformat": 4,
  "nbformat_minor": 0,
  "metadata": {
    "colab": {
      "provenance": [],
      "authorship_tag": "ABX9TyNVAX0DGE/FhJQVIU+Zt2Se",
      "include_colab_link": true
    },
    "kernelspec": {
      "name": "python3",
      "display_name": "Python 3"
    },
    "language_info": {
      "name": "python"
    }
  },
  "cells": [
    {
      "cell_type": "markdown",
      "metadata": {
        "id": "view-in-github",
        "colab_type": "text"
      },
      "source": [
        "<a href=\"https://colab.research.google.com/github/andrey101010/ds-challenge-S-and-S/blob/main/Kopie_von_S_and_S_Weld_Defect_Detection.ipynb\" target=\"_parent\"><img src=\"https://colab.research.google.com/assets/colab-badge.svg\" alt=\"Open In Colab\"/></a>"
      ]
    },
    {
      "cell_type": "code",
      "execution_count": null,
      "metadata": {
        "id": "UckYmdRNBNKh"
      },
      "outputs": [],
      "source": [
        "# These libraries are needed for the project.  \n",
        "# To make use of this notebook the appropriate csv files need to be droped in the '/content' folder!\n",
        "# You need to load weld images before you can access the script!\n",
        "\n",
        "import os\n",
        "import numpy as np\n",
        "\n",
        "from sklearn.cluster import KMeans\n",
        "from sklearn.datasets import load_sample_image\n",
        "from sklearn.utils import shuffle\n",
        "\n",
        "import matplotlib.pyplot as plt\n",
        "import matplotlib.image as mpimg\n",
        "import matplotlib as mpl\n",
        "from google.colab.patches import cv2_imshow\n",
        "\n",
        "import cv2\n",
        "from skimage import color\n",
        "from skimage import io\n",
        "\n",
        "mpl.rcParams['figure.figsize'] = (20, 20)"
      ]
    },
    {
      "cell_type": "markdown",
      "source": [
        "# Weld Defect Detection\n",
        "\n",
        "Loading Data"
      ],
      "metadata": {
        "id": "69ZHpmGahjrf"
      }
    },
    {
      "cell_type": "code",
      "source": [
        "# Set the root directory\n",
        "root_dir = '/content/'\n",
        "img_list = [] # contains later all images\n",
        "\n",
        "# Walk through all the sub-directories\n",
        "for root, dirs, files in os.walk(root_dir): # tuple list therefore the 3 outputs of the for-loop (root, dirs, files).\n",
        "    for i, file in enumerate(files):\n",
        "        # Check if the file is a png image\n",
        "        if file.endswith(\".png\"):\n",
        "         \n",
        "          img = cv2.imread(os.path.join(root, file))\n",
        "          img_list.append(img)\n",
        "          # Display the image\n",
        "          plt.imshow(img, cmap = 'gray')\n",
        "          plt.axis('on')\n",
        "          # plt.show() # comment out if you want to see the images\n",
        "          # print(img.shape) # comment out if you want to see the shape of an image\n"
      ],
      "metadata": {
        "id": "q3KhUymiGxc5"
      },
      "execution_count": null,
      "outputs": []
    },
    {
      "cell_type": "code",
      "source": [
        "# If the files and the notebook are in the same folder. Otherwise you have to change the directory\n",
        "pwd = !pwd"
      ],
      "metadata": {
        "id": "eI02rBunw08Y"
      },
      "execution_count": null,
      "outputs": []
    },
    {
      "cell_type": "code",
      "source": [
        "filelist=os.listdir(pwd[0])\n",
        "for fichier in filelist[:]: # filelist[:] makes a copy of filelist.\n",
        "    if not(fichier.endswith(\".png\")):\n",
        "        filelist.remove(fichier)"
      ],
      "metadata": {
        "id": "4XZCEigZwWyz"
      },
      "execution_count": null,
      "outputs": []
    },
    {
      "cell_type": "markdown",
      "source": [],
      "metadata": {
        "id": "Hmqa6EAVHdm5"
      }
    },
    {
      "cell_type": "code",
      "source": [
        "for i in range(len(img_list)):\n",
        "  img = img_list[i]\n",
        "  # Convert the image to a 2D array \n",
        "  X = img.reshape(-1, 1)\n",
        "\n",
        "  # Perform KMeans clustering on the RGB values\n",
        "  kmeans = KMeans(n_clusters=6, random_state=0).fit(X)\n",
        "\n",
        "  # Assign each pixel to a cluster\n",
        "  labels = kmeans.predict(X)\n",
        "\n",
        "  # Reshape the labels to the same shape as the original image\n",
        "  segmented_image = labels.reshape(img.shape[0], img.shape[1])\n",
        "\n",
        "  # Plot the original image and the segmented image\n",
        "  plt.figure(figsize=(10, 5))\n",
        "  plt.subplot(1, 2, 1)\n",
        "  plt.imshow(img)\n",
        "  plt.title(\"Original Image\")\n",
        "  plt.axis(\"off\")\n",
        "\n",
        "  plt.subplot(1, 2, 2)\n",
        "  plt.imshow(segmented_image)\n",
        "  plt.title(\"Segmented Image\")\n",
        "  plt.axis(\"off\")\n",
        "\n",
        "  plt.show()"
      ],
      "metadata": {
        "id": "lxpVmeQfBhty"
      },
      "execution_count": null,
      "outputs": []
    },
    {
      "cell_type": "markdown",
      "source": [
        "# OpenCV approach"
      ],
      "metadata": {
        "id": "AFnli6LBgayy"
      }
    },
    {
      "cell_type": "code",
      "source": [
        "# first tryouts\n",
        "img = cv2.imread('/content/W0001_0001.png')\n",
        "ret, thresh = cv2.threshold(img, 0, 255, cv2.THRESH_BINARY_INV)"
      ],
      "metadata": {
        "id": "OB5oaxlLha7z"
      },
      "execution_count": null,
      "outputs": []
    },
    {
      "cell_type": "code",
      "source": [
        "threshold = 50 \n",
        "upper = 160\n",
        "\n",
        "ret,thresh1 = cv2.threshold(img,threshold,upper,cv2.THRESH_BINARY)\n",
        "ret,thresh2 = cv2.threshold(img,threshold,upper,cv2.THRESH_BINARY_INV)\n",
        "ret,thresh3 = cv2.threshold(img,threshold,upper,cv2.THRESH_TRUNC)\n",
        "ret,thresh4 = cv2.threshold(img,threshold,upper,cv2.THRESH_TOZERO)\n",
        "ret,thresh5 = cv2.threshold(img,threshold,upper,cv2.THRESH_TOZERO_INV)"
      ],
      "metadata": {
        "id": "2k73I5H0Zw--"
      },
      "execution_count": null,
      "outputs": []
    },
    {
      "cell_type": "code",
      "source": [
        "type(thresh1)"
      ],
      "metadata": {
        "colab": {
          "base_uri": "https://localhost:8080/"
        },
        "id": "MsyNMqcHbynW",
        "outputId": "a3f5d25a-2688-4bff-d82c-5daf9faaa977"
      },
      "execution_count": null,
      "outputs": [
        {
          "output_type": "execute_result",
          "data": {
            "text/plain": [
              "numpy.ndarray"
            ]
          },
          "metadata": {},
          "execution_count": 15
        }
      ]
    },
    {
      "cell_type": "code",
      "source": [
        "titles = ['Original Image','BINARY','BINARY_INV','TRUNC','TOZERO','TOZERO_INV']\n",
        "images = [img, thresh1, thresh2, thresh3, thresh4, thresh5]\n",
        "\n",
        "for i in range(0, 6):\n",
        "    plt.figure(figsize = (40, 40))\n",
        "    plt.subplot(2,3,i+1),plt.imshow(images[i])\n",
        "    plt.title(titles[i])\n",
        "    plt.xticks([]),plt.yticks([])\n",
        "\n",
        "plt.show()"
      ],
      "metadata": {
        "id": "63l1duzdacS-"
      },
      "execution_count": null,
      "outputs": []
    },
    {
      "cell_type": "code",
      "source": [
        "type(img)"
      ],
      "metadata": {
        "colab": {
          "base_uri": "https://localhost:8080/"
        },
        "id": "8RVq8R7Or0jn",
        "outputId": "4ea4b624-81e9-4e64-e1e7-902608cf3c0f"
      },
      "execution_count": null,
      "outputs": [
        {
          "output_type": "execute_result",
          "data": {
            "text/plain": [
              "numpy.ndarray"
            ]
          },
          "metadata": {},
          "execution_count": 17
        }
      ]
    },
    {
      "cell_type": "code",
      "source": [
        "_, th1 = cv2.threshold(img,127,255,cv2.THRESH_BINARY)\n",
        "\n",
        "img_gray = cv2.cvtColor(img, cv2.COLOR_BGR2GRAY)\n",
        "\n",
        "th2 = cv2.adaptiveThreshold(img_gray,255,cv2.ADAPTIVE_THRESH_MEAN_C, cv2.THRESH_BINARY, 5, 1)\n",
        "th3 = cv2.adaptiveThreshold(img_gray,255,cv2.ADAPTIVE_THRESH_GAUSSIAN_C, cv2.THRESH_BINARY, 5, 1)\n",
        "\n",
        "titles = ['Original Image', 'Global Thresholding (v = 127)',\n",
        "            'Adaptive Mean Thresholding', 'Adaptive Gaussian Thresholding']\n",
        "images = [img, th1, th2, th3]\n",
        "\n",
        "for i in range(4):\n",
        "    plt.figure(figsize = (40, 40))\n",
        "    plt.subplot(2,2,i+1),plt.imshow(images[i])\n",
        "    plt.title(titles[i])\n",
        "    plt.xticks([]),plt.yticks([])\n",
        "plt.show()"
      ],
      "metadata": {
        "id": "P26nUjXMcHzS"
      },
      "execution_count": null,
      "outputs": []
    },
    {
      "cell_type": "markdown",
      "source": [
        "# Edge detection and Final Product\n"
      ],
      "metadata": {
        "id": "jQnatuZRqP58"
      }
    },
    {
      "cell_type": "markdown",
      "source": [
        "Laplacian filter is able to do edge detection. However, since the results were not promising this section is commented out."
      ],
      "metadata": {
        "id": "YrI0gxtfH2U9"
      }
    },
    {
      "cell_type": "code",
      "source": [
        "# laplacian_filter = cv2.Laplacian(gauss_filter, cv2.CV_64F, ksize = 13) \n",
        "# plt.imshow(laplacian_filter)"
      ],
      "metadata": {
        "id": "1d0RE3OeDnVY"
      },
      "execution_count": null,
      "outputs": []
    },
    {
      "cell_type": "markdown",
      "source": [
        "# Sobel filter approach"
      ],
      "metadata": {
        "id": "zfcrdEWSsgMm"
      }
    },
    {
      "cell_type": "code",
      "source": [
        "for i in range(len(img_list)):\n",
        "  img = cv2.imread(filelist[i])\n",
        "\n",
        "  # Gauß filter to remove noise\n",
        "  gauss_filter = cv2.GaussianBlur(img,(3,3),0)\n",
        "  ret, gray = cv2.threshold(gauss_filter,127,255, cv2.THRESH_BINARY_INV, cv2.THRESH_OTSU)\n",
        "\n",
        "  # Edge detection with Canny filter\n",
        "  gauss_filter = gray.astype(np.uint8)\n",
        "\n",
        "  # Dilate the image\n",
        "  sobel_filter = cv2.Sobel(gauss_filter, dx = 1, dy = 2, ddepth = 2) \n",
        "  segmented_image = sobel_filter\n",
        "\n",
        "  # Plot the original image and the segmented image\n",
        "  plt.figure(figsize=(20, 10))\n",
        "  plt.subplot(1, 2, 1)\n",
        "  plt.imshow(img)\n",
        "  plt.title(\"Original Image\")\n",
        "  plt.axis(\"off\")\n",
        "\n",
        "  plt.subplot(1, 2, 2)\n",
        "  plt.imshow(segmented_image)\n",
        "  plt.title(\"Segmented Image\")\n",
        "  plt.axis(\"off\")\n",
        "\n",
        "  plt.show()"
      ],
      "metadata": {
        "id": "VzUxvl9MlA_4"
      },
      "execution_count": null,
      "outputs": []
    },
    {
      "cell_type": "markdown",
      "source": [
        "# Canny filter approach and Final Product"
      ],
      "metadata": {
        "id": "2-TO4G82eJ5C"
      }
    },
    {
      "cell_type": "code",
      "source": [
        "for i in range(len(img_list)):\n",
        "  # read in the images\n",
        "  img = cv2.imread(filelist[i])\n",
        "\n",
        "  # use canny filter for edge detection\n",
        "  canny_filter = cv2.Canny(img, 50, 60) \n",
        "\n",
        "  # increses the area of interest\n",
        "  kernel = np.ones((3,3),np.uint8)\n",
        "  dilation = cv2.dilate(canny_filter,kernel,iterations = 3)\n",
        "    \n",
        "  # plot the original image and the segmented image\n",
        "  plt.figure(figsize=(20, 10))\n",
        "  plt.subplot(1, 2, 1)\n",
        "  plt.imshow(img)\n",
        "  plt.title(\"Original Image ({})\".format(filelist[i]))\n",
        "  plt.axis(\"off\")\n",
        "\n",
        "  plt.subplot(1, 2, 2)\n",
        "  plt.imshow(dilation) # segmented images in color\n",
        "  plt.imshow(dilation, cmap = 'gray') # segmented images in grayscale  \n",
        "  plt.title(\"Segmented Image ({})\".format(filelist[i]))\n",
        "  plt.axis(\"off\")\n",
        "\n",
        "  plt.show()"
      ],
      "metadata": {
        "id": "Dpzni-mCqL76"
      },
      "execution_count": null,
      "outputs": []
    }
  ]
}